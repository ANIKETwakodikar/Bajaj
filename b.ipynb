{
 "cells": [
  {
   "cell_type": "code",
   "execution_count": 5,
   "metadata": {},
   "outputs": [
    {
     "data": {
      "text/plain": [
       "{'_id': 'T6hb630b3',\n",
       " 'firstName': 'Css',\n",
       " 'lastName': '',\n",
       " 'emailId': '',\n",
       " 'gender': '',\n",
       " 'alternateContact': '',\n",
       " 'birthDate': None}"
      ]
     },
     "execution_count": 5,
     "metadata": {},
     "output_type": "execute_result"
    }
   ],
   "source": [
    "import pandas as pd\n",
    "df=pd.read_json('/home/aniket/Desktop/DataEngineeringQ2.json')\n",
    "df.patientDetails[0]\n",
    "\n",
    "\n"
   ]
  },
  {
   "cell_type": "code",
   "execution_count": 14,
   "metadata": {},
   "outputs": [
    {
     "data": {
      "text/html": [
       "<div>\n",
       "<style scoped>\n",
       "    .dataframe tbody tr th:only-of-type {\n",
       "        vertical-align: middle;\n",
       "    }\n",
       "\n",
       "    .dataframe tbody tr th {\n",
       "        vertical-align: top;\n",
       "    }\n",
       "\n",
       "    .dataframe thead th {\n",
       "        text-align: right;\n",
       "    }\n",
       "</style>\n",
       "<table border=\"1\" class=\"dataframe\">\n",
       "  <thead>\n",
       "    <tr style=\"text-align: right;\">\n",
       "      <th></th>\n",
       "      <th>_id</th>\n",
       "      <th>appointmentId</th>\n",
       "      <th>patientDetails</th>\n",
       "      <th>phoneNumber</th>\n",
       "      <th>consultationData</th>\n",
       "    </tr>\n",
       "  </thead>\n",
       "  <tbody>\n",
       "    <tr>\n",
       "      <th>count</th>\n",
       "      <td>31</td>\n",
       "      <td>31</td>\n",
       "      <td>31</td>\n",
       "      <td>31</td>\n",
       "      <td>31</td>\n",
       "    </tr>\n",
       "    <tr>\n",
       "      <th>unique</th>\n",
       "      <td>31</td>\n",
       "      <td>31</td>\n",
       "      <td>31</td>\n",
       "      <td>27</td>\n",
       "      <td>30</td>\n",
       "    </tr>\n",
       "    <tr>\n",
       "      <th>top</th>\n",
       "      <td>T6hf3rb5</td>\n",
       "      <td>40d2-9c9f</td>\n",
       "      <td>{'_id': 'T6hb630b3', 'firstName': 'Css', 'last...</td>\n",
       "      <td></td>\n",
       "      <td>{'adviceTemplates': [], 'advices': [], 'attach...</td>\n",
       "    </tr>\n",
       "    <tr>\n",
       "      <th>freq</th>\n",
       "      <td>1</td>\n",
       "      <td>1</td>\n",
       "      <td>1</td>\n",
       "      <td>5</td>\n",
       "      <td>2</td>\n",
       "    </tr>\n",
       "  </tbody>\n",
       "</table>\n",
       "</div>"
      ],
      "text/plain": [
       "             _id appointmentId  \\\n",
       "count         31            31   \n",
       "unique        31            31   \n",
       "top     T6hf3rb5     40d2-9c9f   \n",
       "freq           1             1   \n",
       "\n",
       "                                           patientDetails phoneNumber  \\\n",
       "count                                                  31          31   \n",
       "unique                                                 31          27   \n",
       "top     {'_id': 'T6hb630b3', 'firstName': 'Css', 'last...               \n",
       "freq                                                    1           5   \n",
       "\n",
       "                                         consultationData  \n",
       "count                                                  31  \n",
       "unique                                                 30  \n",
       "top     {'adviceTemplates': [], 'advices': [], 'attach...  \n",
       "freq                                                    2  "
      ]
     },
     "execution_count": 14,
     "metadata": {},
     "output_type": "execute_result"
    }
   ],
   "source": [
    "df.describe()"
   ]
  },
  {
   "attachments": {},
   "cell_type": "markdown",
   "metadata": {},
   "source": [
    "a)"
   ]
  },
  {
   "cell_type": "code",
   "execution_count": 67,
   "metadata": {},
   "outputs": [],
   "source": [
    "fn=[]\n",
    "ln=[]\n",
    "g=[]\n",
    "dob=[]\n",
    "med=[]\n",
    "for i in range(len(df._id)):\n",
    "    if df['patientDetails'][i]['firstName']!='':\n",
    "        fn.append(df['patientDetails'][i]['firstName'])\n",
    "    else:\n",
    "        fn.append('')\n",
    "    \n",
    "    if df['patientDetails'][i]['lastName']!='':\n",
    "        ln.append(df['patientDetails'][i]['lastName'])\n",
    "    else:\n",
    "        ln.append('')\n",
    "    m=df.patientDetails[i]\n",
    "    if 'gender' in m.keys():\n",
    "        if m['gender']=='M':\n",
    "            g.append('male')\n",
    "        elif m['gender']=='F':\n",
    "            g.append('female')\n",
    "        else:\n",
    "            g.append(None)\n",
    "    else:\n",
    "        g.append(None)\n",
    "    \n",
    "    if 'birthDate' in m.keys():\n",
    "        if m['birthDate']!='':\n",
    "            dob.append(pd.to_datetime(m['birthDate']))\n",
    "        else:\n",
    "            dob.append(None)\n",
    "    else:\n",
    "        dob.append(None)\n",
    "\n",
    "    p=df.consultationData[i]\n",
    "    if 'medicines' in p.keys():\n",
    "        med.append(p['medicines'])\n",
    "    else:\n",
    "        med.append(None)\n"
   ]
  },
  {
   "cell_type": "code",
   "execution_count": 68,
   "metadata": {},
   "outputs": [],
   "source": [
    "df['firstName']=fn\n",
    "df['lastName']=ln\n",
    "df['gender']=g\n",
    "df['DOB']=dob\n",
    "df['medicines']=med\n"
   ]
  },
  {
   "attachments": {},
   "cell_type": "markdown",
   "metadata": {},
   "source": [
    "b)"
   ]
  },
  {
   "cell_type": "code",
   "execution_count": 72,
   "metadata": {},
   "outputs": [],
   "source": [
    "df['fullName']=df['firstName']+' '+df['lastName']"
   ]
  },
  {
   "attachments": {},
   "cell_type": "markdown",
   "metadata": {},
   "source": [
    "c)"
   ]
  },
  {
   "cell_type": "code",
   "execution_count": 83,
   "metadata": {},
   "outputs": [],
   "source": [
    "def is_valid_phone_number(number):\n",
    "    number = str(number)\n",
    "    \n",
    "    if number.startswith('+91') or number.startswith('91'):\n",
    "        number = number[3:] \n",
    "    \n",
    "    if len(number) != 10 or not number.isdigit():\n",
    "        return False  \n",
    "    \n",
    "    parsed_number = int(number)\n",
    "    return 6000000000 <= parsed_number <= 9999999999\n",
    "\n",
    "pn=[]\n",
    "\n",
    "for i in range(len(df._id)):\n",
    "    pn.append(is_valid_phone_number(df.phoneNumber[i]))\n",
    "\n",
    "df['isValidMobile']=pn\n"
   ]
  },
  {
   "cell_type": "code",
   "execution_count": 94,
   "metadata": {},
   "outputs": [],
   "source": [
    "import hashlib\n",
    "hl=[]\n",
    "for i in range(len(df._id)):\n",
    "    if df.isValidMobile[i]==True:\n",
    "        hl.append(hashlib.sha256(df.phoneNumber[i].encode('utf-8')).hexdigest())\n",
    "    else:\n",
    "        hl.append(None)\n",
    "\n",
    "df['phoneNumberHash']=hl"
   ]
  },
  {
   "attachments": {},
   "cell_type": "markdown",
   "metadata": {},
   "source": [
    "e)"
   ]
  },
  {
   "cell_type": "code",
   "execution_count": 102,
   "metadata": {},
   "outputs": [],
   "source": [
    "\n",
    "\n",
    "def calculate_age(dob):\n",
    "    if dob==None:\n",
    "        return None\n",
    "    dob = pd.to_datetime(dob)\n",
    "    current_date = pd.Timestamp.utcnow().floor('D')\n",
    "    age = (current_date - dob).days // 365\n",
    "\n",
    "    return age\n",
    "\n",
    "\n",
    "Age=[]\n",
    "for i in range(len(df._id)):\n",
    "    Age.append(calculate_age(df.DOB[i]))\n",
    "df['Age']=Age\n"
   ]
  },
  {
   "cell_type": "code",
   "execution_count": 103,
   "metadata": {},
   "outputs": [
    {
     "data": {
      "text/plain": [
       "Index(['_id', 'appointmentId', 'patientDetails', 'phoneNumber',\n",
       "       'consultationData', 'firstName', 'lastName', 'gender', 'DOB',\n",
       "       'medicines', 'fullName', 'isValidMobile', 'Age'],\n",
       "      dtype='object')"
      ]
     },
     "execution_count": 103,
     "metadata": {},
     "output_type": "execute_result"
    }
   ],
   "source": [
    "df.drop(['_id','patientDetails','consultationData',])"
   ]
  },
  {
   "cell_type": "code",
   "execution_count": 107,
   "metadata": {},
   "outputs": [],
   "source": [
    "df.to_json('data.json', orient='records')"
   ]
  },
  {
   "cell_type": "code",
   "execution_count": null,
   "metadata": {},
   "outputs": [],
   "source": [
    "import matplotlib.pyplot as plt\n",
    "pl"
   ]
  }
 ],
 "metadata": {
  "kernelspec": {
   "display_name": "Python 3",
   "language": "python",
   "name": "python3"
  },
  "language_info": {
   "codemirror_mode": {
    "name": "ipython",
    "version": 3
   },
   "file_extension": ".py",
   "mimetype": "text/x-python",
   "name": "python",
   "nbconvert_exporter": "python",
   "pygments_lexer": "ipython3",
   "version": "3.10.6"
  },
  "orig_nbformat": 4
 },
 "nbformat": 4,
 "nbformat_minor": 2
}
